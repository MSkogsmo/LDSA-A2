{
 "cells": [
  {
   "cell_type": "code",
   "execution_count": 1,
   "metadata": {},
   "outputs": [],
   "source": [
    "#------C.1 Deploy a Spark cluster consisting of a master node and one or more worker nodes.\n",
    "#------Use standalone deployment mode. Deploy Jupyter on the master node."
   ]
  },
  {
   "cell_type": "code",
   "execution_count": 10,
   "metadata": {},
   "outputs": [],
   "source": [
    "from pyspark.sql import SparkSession\n",
    "\n",
    "# (8 cores, 16gb per machine) x 5 = 40 cores\n",
    "\n",
    "# New API\n",
    "spark_session = SparkSession\\\n",
    "        .builder\\\n",
    "        .master(\"spark://mskogs:7077\") \\\n",
    "        .appName(\"simple_example\")\\\n",
    "        .getOrCreate()\n",
    "\n",
    "# Old API (RDD)\n",
    "spark_context = spark_session.sparkContext"
   ]
  },
  {
   "cell_type": "code",
   "execution_count": 11,
   "metadata": {},
   "outputs": [
    {
     "name": "stdout",
     "output_type": "stream",
     "text": [
      "110\n"
     ]
    }
   ],
   "source": [
    "def add(a, b):\n",
    "    # commutative and associative!\n",
    "    return a + b\n",
    "\n",
    "rdd = spark_context.parallelize([1, 2, 3, 4, 5, 6, 7, 8, 9, 10], 3)\n",
    "\n",
    "result = rdd.map(lambda x: x * 2)\\\n",
    "            .reduce(add)\n",
    "\n",
    "print(result)\n",
    "\n",
    "#See: http://spark.apache.org/docs/2.3.0/api/python/pyspark.html"
   ]
  },
  {
   "cell_type": "code",
   "execution_count": 9,
   "metadata": {},
   "outputs": [],
   "source": [
    "# release the cores for another application!\n",
    "spark_context.stop()"
   ]
  },
  {
   "cell_type": "code",
   "execution_count": 10,
   "metadata": {},
   "outputs": [],
   "source": [
    "#The code from A1-----------------------------"
   ]
  },
  {
   "cell_type": "code",
   "execution_count": 12,
   "metadata": {},
   "outputs": [
    {
     "name": "stdout",
     "output_type": "stream",
     "text": [
      "English:\n",
      "1862234\n",
      "Swedish:\n",
      "1862234\n"
     ]
    }
   ],
   "source": [
    "#Cashing text files in slaves\n",
    "swedish_txt = spark_context.textFile('file:///home/ubuntu/txts/europarl-v7.sv-en.sv').cache()\n",
    "english_txt = spark_context.textFile('file:///home/ubuntu/txts/europarl-v7.sv-en.en').cache()\n",
    "\n",
    "#Not cashing in slaves\n",
    "#swedish_txt = spark_context.textFile('file:///home/ubuntu/txts/europarl-v7.sv-en.sv')\n",
    "#english_txt = spark_context.textFile('file:///home/ubuntu/txts/europarl-v7.sv-en.en')\n",
    "\n",
    "\n",
    "print(\"English:\")\n",
    "print(english_txt.count())\n",
    "print(\"Swedish:\")\n",
    "print(swedish_txt.count())\n"
   ]
  },
  {
   "cell_type": "code",
   "execution_count": 4,
   "metadata": {},
   "outputs": [
    {
     "name": "stdout",
     "output_type": "stream",
     "text": [
      "English:\n",
      "9\n",
      "Swedish:\n",
      "9\n"
     ]
    }
   ],
   "source": [
    "#Get number of partitions\n",
    "\n",
    "print(\"English:\")\n",
    "print(english_txt.getNumPartitions())\n",
    "print(\"Swedish:\")\n",
    "print(swedish_txt.getNumPartitions())"
   ]
  },
  {
   "cell_type": "code",
   "execution_count": null,
   "metadata": {},
   "outputs": [],
   "source": []
  }
 ],
 "metadata": {
  "kernelspec": {
   "display_name": "Python 3",
   "language": "python",
   "name": "python3"
  },
  "language_info": {
   "codemirror_mode": {
    "name": "ipython",
    "version": 3
   },
   "file_extension": ".py",
   "mimetype": "text/x-python",
   "name": "python",
   "nbconvert_exporter": "python",
   "pygments_lexer": "ipython3",
   "version": "3.5.2"
  }
 },
 "nbformat": 4,
 "nbformat_minor": 2
}
