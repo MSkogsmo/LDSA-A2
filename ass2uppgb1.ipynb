{
 "cells": [
  {
   "cell_type": "code",
   "execution_count": 2,
   "metadata": {},
   "outputs": [],
   "source": [
    "from pyspark.sql import SparkSession\n",
    "\n",
    "# (8 cores, 16gb per machine) x 5 = 40 cores\n",
    "\n",
    "# New API\n",
    "spark_session = SparkSession\\\n",
    "        .builder\\\n",
    "        .master(\"local\") \\\n",
    "        .appName(\"simple_example\")\\\n",
    "        .getOrCreate()\n",
    "\n",
    "# Old API (RDD)\n",
    "spark_context = spark_session.sparkContext\n",
    "\n",
    "dataframe = spark_session.read\\\n",
    "    .csv(\"files/gender_data_2017_2018.csv\",\\\n",
    "    header=True, multiLine=True, \\\n",
    "    inferSchema=True, escape='\"').cache()\n"
   ]
  },
  {
   "cell_type": "code",
   "execution_count": 3,
   "metadata": {},
   "outputs": [
    {
     "data": {
      "text/plain": [
       "10504"
      ]
     },
     "execution_count": 3,
     "metadata": {},
     "output_type": "execute_result"
    }
   ],
   "source": [
    "#Counting for testing\n",
    "dataframe.count()"
   ]
  },
  {
   "cell_type": "code",
   "execution_count": 4,
   "metadata": {},
   "outputs": [
    {
     "name": "stdout",
     "output_type": "stream",
     "text": [
      "root\n",
      " |-- EmployerName: string (nullable = true)\n",
      " |-- Address: string (nullable = true)\n",
      " |-- CompanyNumber: string (nullable = true)\n",
      " |-- SicCodes: string (nullable = true)\n",
      " |-- DiffMeanHourlyPercent: double (nullable = true)\n",
      " |-- DiffMedianHourlyPercent: double (nullable = true)\n",
      " |-- DiffMeanBonusPercent: double (nullable = true)\n",
      " |-- DiffMedianBonusPercent: double (nullable = true)\n",
      " |-- MaleBonusPercent: double (nullable = true)\n",
      " |-- FemaleBonusPercent: double (nullable = true)\n",
      " |-- MaleLowerQuartile: double (nullable = true)\n",
      " |-- FemaleLowerQuartile: double (nullable = true)\n",
      " |-- MaleLowerMiddleQuartile: double (nullable = true)\n",
      " |-- FemaleLowerMiddleQuartile: double (nullable = true)\n",
      " |-- MaleUpperMiddleQuartile: double (nullable = true)\n",
      " |-- FemaleUpperMiddleQuartile: double (nullable = true)\n",
      " |-- MaleTopQuartile: double (nullable = true)\n",
      " |-- FemaleTopQuartile: double (nullable = true)\n",
      " |-- CompanyLinkToGPGInfo: string (nullable = true)\n",
      " |-- ResponsiblePerson: string (nullable = true)\n",
      " |-- EmployerSize: string (nullable = true)\n",
      " |-- CurrentName: string (nullable = true)\n",
      " |-- SubmittedAfterTheDeadline\r",
      ": string (nullable = true)\n",
      "\n"
     ]
    }
   ],
   "source": [
    "#Dataframe schema\n",
    "dataframe.printSchema()"
   ]
  },
  {
   "cell_type": "code",
   "execution_count": 6,
   "metadata": {},
   "outputs": [
    {
     "name": "stdout",
     "output_type": "stream",
     "text": [
      "+--------------------+--------------------+-------------+--------------------+---------------------+-----------------------+--------------------+----------------------+----------------+------------------+-----------------+-------------------+-----------------------+-------------------------+-----------------------+-------------------------+---------------+-----------------+--------------------+--------------------+--------------+--------------------+--------------------------+\n",
      "|        EmployerName|             Address|CompanyNumber|            SicCodes|DiffMeanHourlyPercent|DiffMedianHourlyPercent|DiffMeanBonusPercent|DiffMedianBonusPercent|MaleBonusPercent|FemaleBonusPercent|MaleLowerQuartile|FemaleLowerQuartile|MaleLowerMiddleQuartile|FemaleLowerMiddleQuartile|MaleUpperMiddleQuartile|FemaleUpperMiddleQuartile|MaleTopQuartile|FemaleTopQuartile|CompanyLinkToGPGInfo|   ResponsiblePerson|  EmployerSize|         CurrentName|SubmittedAfterTheDeadline\r",
      "|\n",
      "+--------------------+--------------------+-------------+--------------------+---------------------+-----------------------+--------------------+----------------------+----------------+------------------+-----------------+-------------------+-----------------------+-------------------------+-----------------------+-------------------------+---------------+-----------------+--------------------+--------------------+--------------+--------------------+--------------------------+\n",
      "|\"Bryanston School...|Bryanston House,\r",
      "...|     00226143|               85310|                 18.0|                   28.2|                 0.0|                   0.0|             0.0|               0.0|             24.4|               75.6|                   50.8|                     49.2|                   49.2|                     50.8|           51.5|             48.5|https://www.bryan...|Nick McRobb (Burs...|    500 to 999|\"Bryanston School...|                    False\r",
      "|\n",
      "|\"RED BAND\" CHEMIC...|19, Smith's Place...|     SC016876|               47730|                  2.3|                   -2.7|                15.0|                  37.5|            15.6|              66.7|             20.3|               79.7|                   25.4|                     74.6|                   10.3|                     89.7|           18.1|             81.9|                null|Philip Galt (Mana...|    250 to 499|\"RED BAND\" CHEMIC...|                    False\r",
      "|\n",
      "|         118 LIMITED|Fusion Point,\r\n",
      "Du...|     03951948|               61900|                  1.7|                    2.8|                13.1|                  13.6|            70.0|              57.0|             51.0|               49.0|                   53.0|                     47.0|                   50.0|                     50.0|           58.0|             42.0|                null|Emma Crowe (VP, H...|    500 to 999|         118 LIMITED|                    False\r",
      "|\n",
      "|   123 EMPLOYEES LTD|34, Roundhay Road...|     10530651|               78300|                 41.0|                   36.0|               -69.8|                -157.2|            50.0|              73.5|              0.0|              100.0|                    2.0|                     98.0|                   11.0|                     89.0|           23.0|             77.0|                null|Chloe Lines (Fina...|    250 to 499|   123 EMPLOYEES LTD|                     True\r",
      "|\n",
      "|        1610 LIMITED|Hestercombe House...|     06727055|               93110|                -22.0|                  -34.0|               -47.0|                 -67.0|            25.0|              75.0|             56.0|               44.0|                   52.0|                     48.0|                   30.0|                     70.0|           24.0|             76.0|https://www.1610....|Tim Nightingale (...|    250 to 499|        1610 LIMITED|                     True\r",
      "|\n",
      "|1879 EVENTS MANAG...|The Sunderland St...|     07743495|       56210,\r\n",
      "70229|                 13.4|                    8.1|                41.4|                  43.7|             8.7|               3.2|             29.1|               70.9|                   49.4|                     50.6|                   22.8|                     77.2|           58.2|             41.8|https://www.safc....|Jo Graham (Deputy...|    250 to 499|1879 EVENTS MANAG...|                    False\r",
      "|\n",
      "|1LIFE MANAGEMENT ...|Ldh House St Ives...|     02566586|93110,\r\n",
      "93130,\r\n",
      "9...|                 15.1|                    2.8|                77.6|                  71.2|             5.8|               4.2|             42.6|               57.4|                   45.2|                     54.8|                   46.8|                     53.2|           35.5|             64.5|http://www.1life....|Mark Braithwaite ...|    500 to 999|1LIFE MANAGEMENT ...|                    False\r",
      "|\n",
      "|  1ST HOME CARE LTD.|12b, Burnbank Roa...|     SC272838|       86900,\r\n",
      "88100|                 15.0|                    0.0|                 0.0|                   0.0|             0.0|               0.0|             10.0|               90.0|                    9.0|                     91.0|                   10.0|                     90.0|            9.0|             91.0|https://www.1stho...|John McDonald (Ex...|    250 to 499|  1ST HOME CARE LTD.|                    False\r",
      "|\n",
      "| 1STOP HALAL LIMITED|Colmore Court,\r\n",
      "9...|     08929070|               56290|                 11.9|                    0.0|                 0.0|                   0.0|             0.0|               0.0|             75.3|               24.7|                   52.3|                     47.7|                   58.1|                     41.9|           69.8|             30.2|                null|Stephen Elder (Fi...|    250 to 499| 1STOP HALAL LIMITED|                    False\r",
      "|\n",
      "|2 AGRICULTURE LIM...|Fairview Mill, In...|     SC156515|        1470,\r\n",
      "10910|                 13.4|                    8.5|                62.9|                   0.0|            89.7|              73.3|             89.1|               10.9|                   95.3|                      4.7|                   98.5|                      1.5|           93.8|              6.2|http://www.2agric...|Gavin Berry (Mana...|    250 to 499|2 AGRICULTURE LIM...|                    False\r",
      "|\n",
      "|2 SISTERS FOOD GR...|Trinity Park Hous...|     02826929|               10120|                 15.3|                    6.9|                55.5|                   1.6|             5.6|               5.1|             44.9|               55.1|                   67.6|                     32.4|                   66.2|                     33.8|           73.7|             26.3|https://www.2sfg....|Nigel Perry (Grou...|5000 to 19,999|2 SISTERS FOOD GR...|                    False\r",
      "|\n",
      "|2 SISTERS POULTRY...|George Street, Co...|     SC440782|               10120|                  4.9|                    4.8|                39.8|                   0.0|            22.2|              12.4|             60.3|               39.7|                   68.5|                     31.5|                   68.5|                     31.5|           72.4|             27.6|https://www.2sfg....|Nigel Perry (Grou...|  1000 to 4999|2 SISTERS POULTRY...|                    False\r",
      "|\n",
      "|2 SISTERS RED MEA...|George Street, Co...|     SC440783|               10110|                 14.5|                   12.7|                 0.0|                   0.0|             0.0|               0.0|             70.0|               30.0|                   79.6|                     20.4|                   83.0|                     17.0|           89.7|             10.3|https://www.2sfg....|Nigel Perry (Grou...|  1000 to 4999|2 SISTERS RED MEA...|                    False\r",
      "|\n",
      "|2 Touch Bpo Servi...|- Lowton Way,\r\n",
      "He...|     08942815|               82200|                 -0.2|                   -1.3|                22.9|                  43.3|            55.5|              58.5|             45.8|               54.2|                   47.4|                     52.6|                   43.2|                     56.8|           42.6|             57.4|http://www.parseq...|Robert Littlewood...|  1000 to 4999|2 Touch Bpo Servi...|                    False\r",
      "|\n",
      "|23.5 DEGREES LIMITED|Unit 3 Hedge End ...|     08014079|               56103|                 -2.0|                   -4.0|                68.0|                  20.0|             1.0|               0.0|             27.0|               73.0|                   32.0|                     68.0|                   31.0|                     69.0|           24.0|             76.0|https://www.23-5d...| Luca Contardo (CFO)|    500 to 999|23.5 DEGREES LIMITED|                     True\r",
      "|\n",
      "|         24 X 7 Ltd.|Magnolia Cottage ...|     04142000|               52290|                  0.8|                    0.0|                 0.0|                   0.0|             0.0|               0.0|             43.6|               56.4|                   39.6|                     60.4|                   42.7|                     57.3|           39.6|             60.4|                null|Lauren Fairmaner ...|    500 to 999|         24 X 7 Ltd.|                    False\r",
      "|\n",
      "|24-7 EMPLOYMENT S...|8a, London Road,\r",
      "...|     07431144|               78200|                  0.0|                    0.0|                 0.0|                   0.0|             0.0|               0.0|             39.5|               60.5|                   69.8|                     30.2|                   60.5|                     39.5|           41.9|             58.1|http://www.247esl...|Riju Adhikari (Ac...|    250 to 499|24-7 EMPLOYMENT S...|                     True\r",
      "|\n",
      "|2Gether N H S Fou...|Rikenel,\r\n",
      "Montpel...|         null|           1,\r\n",
      "86210|                 20.8|                   16.1|                15.1|                  41.5|            60.0|              46.0|             17.6|               82.4|                   18.1|                     81.9|                   21.8|                     78.2|           34.6|             65.4|https://www.2geth...|                null|  1000 to 4999|2Gether N H S Fou...|                    False\r",
      "|\n",
      "|3 WAY CLEANING LI...|Unit 7, Capstan C...|     03457928|               81210|                  4.2|                    4.2|                 0.0|                   0.0|             0.0|               0.0|             45.2|               54.8|                   39.4|                     60.6|                   24.6|                     75.4|           41.7|             58.3|                null|Anthony Webb (Dir...|    250 to 499|3 WAY CLEANING LI...|                     True\r",
      "|\n",
      "|3663 TRANSPORT LI...|814 Leigh Road,\r\n",
      "...|     00456846|               52290|                  8.4|                   11.5|                25.5|                  68.4|            49.0|              39.0|             91.9|                8.1|                   97.0|                      3.0|                   97.6|                      2.4|           97.3|              2.7|https://www.bidfo...|Heather Angus (HR...|  1000 to 4999|3663 TRANSPORT LI...|                    False\r",
      "|\n",
      "+--------------------+--------------------+-------------+--------------------+---------------------+-----------------------+--------------------+----------------------+----------------+------------------+-----------------+-------------------+-----------------------+-------------------------+-----------------------+-------------------------+---------------+-----------------+--------------------+--------------------+--------------+--------------------+--------------------------+\n",
      "only showing top 20 rows\n",
      "\n"
     ]
    }
   ],
   "source": [
    "# Messy look of dataframe\n",
    "dataframe.show()"
   ]
  },
  {
   "cell_type": "code",
   "execution_count": 7,
   "metadata": {},
   "outputs": [
    {
     "data": {
      "text/plain": [
       "[Row(EmployerName='\"Bryanston School\",Incorporated', Address='Bryanston House,\\r\\nBlandford,\\r\\nDorset,\\r\\nUnited Kingdom,\\r\\nDT11 0PX', CompanyNumber='00226143', SicCodes='85310', DiffMeanHourlyPercent=18.0, DiffMedianHourlyPercent=28.2, DiffMeanBonusPercent=0.0, DiffMedianBonusPercent=0.0, MaleBonusPercent=0.0, FemaleBonusPercent=0.0, MaleLowerQuartile=24.4, FemaleLowerQuartile=75.6, MaleLowerMiddleQuartile=50.8, FemaleLowerMiddleQuartile=49.2, MaleUpperMiddleQuartile=49.2, FemaleUpperMiddleQuartile=50.8, MaleTopQuartile=51.5, FemaleTopQuartile=48.5, CompanyLinkToGPGInfo='https://www.bryanston.co.uk/employment', ResponsiblePerson='Nick McRobb (Bursar and Clerk to the Governors)', EmployerSize='500 to 999', CurrentName='\"Bryanston School\",Incorporated', SubmittedAfterTheDeadline\n",
       " ='False\\r')]"
      ]
     },
     "execution_count": 7,
     "metadata": {},
     "output_type": "execute_result"
    }
   ],
   "source": [
    "#Receiving the first data for example\n",
    "dataframe.rdd.take(1)"
   ]
  },
  {
   "cell_type": "code",
   "execution_count": 9,
   "metadata": {},
   "outputs": [
    {
     "data": {
      "text/plain": [
       "1"
      ]
     },
     "execution_count": 9,
     "metadata": {},
     "output_type": "execute_result"
    }
   ],
   "source": [
    "# Number of partitions, only one!\n",
    "dataframe.rdd.getNumPartitions()"
   ]
  },
  {
   "cell_type": "code",
   "execution_count": 13,
   "metadata": {},
   "outputs": [
    {
     "data": {
      "text/plain": [
       "10504"
      ]
     },
     "execution_count": 13,
     "metadata": {},
     "output_type": "execute_result"
    }
   ],
   "source": [
    "#Number of lines\n",
    "dataframe.rdd.count()"
   ]
  },
  {
   "cell_type": "code",
   "execution_count": 16,
   "metadata": {},
   "outputs": [
    {
     "data": {
      "text/plain": [
       "[Row(EmployerName='ALLERGAN LIMITED'),\n",
       " Row(EmployerName='ATOS CONSULTING LIMITED'),\n",
       " Row(EmployerName='BAE SYSTEMS GLOBAL COMBAT SYSTEMS MUNITIONS LIMITED'),\n",
       " Row(EmployerName='BIRDS (DERBY) LIMITED'),\n",
       " Row(EmployerName='Blades Restaurants Ltd'),\n",
       " Row(EmployerName='BOTT LIMITED'),\n",
       " Row(EmployerName='BRIDGEWAY CONSULTING LIMITED'),\n",
       " Row(EmployerName='CAPITA MANAGED IT SOLUTIONS LIMITED'),\n",
       " Row(EmployerName='CITIGROUP GLOBAL MARKETS LIMITED'),\n",
       " Row(EmployerName='Cornwall Council')]"
      ]
     },
     "execution_count": 16,
     "metadata": {},
     "output_type": "execute_result"
    }
   ],
   "source": [
    "# Some testing of quering\n",
    "dataframe.select('EmployerName').distinct().take(10)"
   ]
  },
  {
   "cell_type": "code",
   "execution_count": 54,
   "metadata": {},
   "outputs": [
    {
     "name": "stdout",
     "output_type": "stream",
     "text": [
      "+--------------------+---------------------+\n",
      "|        EmployerName|DiffMeanHourlyPercent|\n",
      "+--------------------+---------------------+\n",
      "|COMPLETE CARE HOL...|                400.0|\n",
      "+--------------------+---------------------+\n",
      "only showing top 1 row\n",
      "\n"
     ]
    }
   ],
   "source": [
    "#-------B.1.1 Which organization has the largest gender pay gap?-----------------------\n",
    "#It seems fair to only chech the differences in mean value and showing the top 1 result \n",
    "from  pyspark.sql.functions import abs\n",
    "dataframe.withColumn('DiffMeanHourlyPercent', abs(dataframe.DiffMeanHourlyPercent))\\\n",
    "    .select('EmployerName', 'DiffMeanHourlyPercent')\\\n",
    "    .orderBy('DiffMeanHourlyPercent', ascending=False)\\\n",
    "    .show(1)\n",
    "    \n"
   ]
  },
  {
   "cell_type": "code",
   "execution_count": 60,
   "metadata": {},
   "outputs": [
    {
     "name": "stdout",
     "output_type": "stream",
     "text": [
      "+--------------------+---------------------+\n",
      "|        EmployerName|DiffMeanHourlyPercent|\n",
      "+--------------------+---------------------+\n",
      "|      D.G.F. LIMITED|                  0.0|\n",
      "|      BOREAL LIMITED|                  0.0|\n",
      "|CRAIGTON FOODS LI...|                  0.0|\n",
      "|CYCLE TRAINING UK...|                  0.0|\n",
      "|         725 LIMITED|                  0.0|\n",
      "|        ACCA LIMITED|                  0.0|\n",
      "|ANGEL HUMAN RESOU...|                  0.0|\n",
      "|CARE AT HOME SERV...|                  0.0|\n",
      "|BRAYBORNE FACILIT...|                  0.0|\n",
      "|CAVITY DENTAL STA...|                  0.0|\n",
      "|  Avenues South East|                  0.0|\n",
      "|Choices Housing A...|                  0.0|\n",
      "|BESPOKE CLEANING ...|                  0.0|\n",
      "|CINNAMON CARE COL...|                  0.0|\n",
      "|24-7 EMPLOYMENT S...|                  0.0|\n",
      "|CMD RECRUITMENT L...|                  0.0|\n",
      "|ARRIVA DURHAM COU...|                  0.0|\n",
      "|COMFORT CALL LIMITED|                  0.0|\n",
      "|BANBURY HEATH LIM...|                  0.0|\n",
      "|COOPER TOPCO LIMITED|                  0.0|\n",
      "+--------------------+---------------------+\n",
      "only showing top 20 rows\n",
      "\n"
     ]
    },
    {
     "data": {
      "text/plain": [
       "82"
      ]
     },
     "execution_count": 60,
     "metadata": {},
     "output_type": "execute_result"
    }
   ],
   "source": [
    "#-------B.1.1 Which the least?---------\n",
    "#It seems fair to only chech the differences in mean value and showing the 20 last result \n",
    "dataframe.withColumn('DiffMeanHourlyPercent', abs(dataframe.DiffMeanHourlyPercent))\\\n",
    "    .select('EmployerName', 'DiffMeanHourlyPercent')\\\n",
    "    .orderBy('DiffMeanHourlyPercent', ascending=True)\\\n",
    "    .show(20)\n",
    "\n",
    "#Since there seems to be a lot with 0.0 in difference, we will count them as well\n",
    "dataframe.withColumn('DiffMeanHourlyPercent1', abs(dataframe.DiffMeanHourlyPercent))\\\n",
    "    .filter(dataframe.DiffMeanHourlyPercent == 0.0)\\\n",
    "    .select('EmployerName', 'DiffMeanHourlyPercent')\\\n",
    "    .count()"
   ]
  },
  {
   "cell_type": "code",
   "execution_count": 68,
   "metadata": {},
   "outputs": [
    {
     "name": "stdout",
     "output_type": "stream",
     "text": [
      "+-------+--------------------+---------------------+\n",
      "|summary|        EmployerName|DiffMeanHourlyPercent|\n",
      "+-------+--------------------+---------------------+\n",
      "|  count|               10504|                10504|\n",
      "|   mean|                null|   16.143545316070075|\n",
      "| stddev|                null|   13.200863586376073|\n",
      "|    min|\"Bryanston School...|                  0.0|\n",
      "|    25%|                null|                  6.5|\n",
      "|    50%|                null|                 14.0|\n",
      "|    75%|                null|                 23.1|\n",
      "|    max|        ward hadaway|                400.0|\n",
      "+-------+--------------------+---------------------+\n",
      "\n"
     ]
    }
   ],
   "source": [
    "#----------B.1.2 What is the mean gender pay gap across all organization?-------------\n",
    "\n",
    "dataframe.withColumn('DiffMeanHourlyPercent', abs(dataframe.DiffMeanHourlyPercent))\\\n",
    "    .select('EmployerName', 'DiffMeanHourlyPercent')\\\n",
    "    .orderBy('DiffMeanHourlyPercent', ascending=False)\\\n",
    "    .summary()\\\n",
    "    .show()\n",
    "    \n",
    "# The mean of DiffMeanHourlyPercent is 16.143545316070075"
   ]
  },
  {
   "cell_type": "code",
   "execution_count": 74,
   "metadata": {},
   "outputs": [],
   "source": [
    "#-----------B.1.3-----Export the results of B.1.2 to a CSV file.-----------\n",
    "\n",
    "#Creating the summary\n",
    "result_summary = \\\n",
    "    dataframe.withColumn('DiffMeanHourlyPercent', abs(dataframe.DiffMeanHourlyPercent))\\\n",
    "    .select('EmployerName', 'DiffMeanHourlyPercent')\\\n",
    "    .orderBy('DiffMeanHourlyPercent', ascending=False)\\\n",
    "    .summary()\n",
    "\n",
    "#Exporting result into csv file\n",
    "result_summary.write.format(\"csv\")\\\n",
    ".mode(\"overwrite\")\\\n",
    ".options(header=\"true\")\\\n",
    ".save(\"result_summary.csv\")"
   ]
  },
  {
   "cell_type": "code",
   "execution_count": 85,
   "metadata": {},
   "outputs": [
    {
     "name": "stdout",
     "output_type": "stream",
     "text": [
      "+-------+--------------------+---------------------+\n",
      "|summary|        EmployerName|DiffMeanHourlyPercent|\n",
      "+-------+--------------------+---------------------+\n",
      "|  count|               10504|                10504|\n",
      "|   mean|                null|   16.143545316070075|\n",
      "| stddev|                null|   13.200863586376073|\n",
      "|    min|\"\\\"Bryanston Scho...|        Incorporated\"|\n",
      "|    25%|                null|                  6.5|\n",
      "|    50%|                null|                 14.0|\n",
      "|    75%|                null|                 23.1|\n",
      "|    max|        ward hadaway|                400.0|\n",
      "+-------+--------------------+---------------------+\n",
      "\n"
     ]
    }
   ],
   "source": [
    "#-------------Inspect the output file to check it looks---reasonable.-------------\n",
    "# My answer: Yes, it looks reasonable\n",
    "dataframe = spark_session.read\\\n",
    "    .csv(\"result_summary.csv\",\\\n",
    "    header=True, multiLine=True, \\\n",
    "    inferSchema=True, escape='\"').show()"
   ]
  },
  {
   "cell_type": "code",
   "execution_count": 94,
   "metadata": {},
   "outputs": [
    {
     "data": {
      "text/plain": [
       "1225"
      ]
     },
     "execution_count": 94,
     "metadata": {},
     "output_type": "execute_result"
    }
   ],
   "source": [
    "#----------B.1.4 What proportion of organizations pay women more than men on average?\n",
    "#Explain your calculation.\n",
    "dataframe = spark_session.read\\\n",
    "    .csv(\"files/gender_data_2017_2018.csv\",\\\n",
    "    header=True, multiLine=True, \\\n",
    "    inferSchema=True, escape='\"').cache()\n",
    "\n",
    "# Calculating the amount of negative results\n",
    "dataframe.withColumn('DiffMeanHourlyPercent1', abs(dataframe.DiffMeanHourlyPercent))\\\n",
    "    .filter(dataframe.DiffMeanHourlyPercent < 0.0)\\\n",
    "    .select('EmployerName', 'DiffMeanHourlyPercent')\\\n",
    "    .count()\n",
    "\n"
   ]
  },
  {
   "cell_type": "code",
   "execution_count": 95,
   "metadata": {},
   "outputs": [
    {
     "data": {
      "text/plain": [
       "10504"
      ]
     },
     "execution_count": 95,
     "metadata": {},
     "output_type": "execute_result"
    }
   ],
   "source": [
    "# Calculating all the results\n",
    "dataframe.count()"
   ]
  },
  {
   "cell_type": "code",
   "execution_count": 96,
   "metadata": {},
   "outputs": [
    {
     "data": {
      "text/plain": [
       "0.11662223914699162"
      ]
     },
     "execution_count": 96,
     "metadata": {},
     "output_type": "execute_result"
    }
   ],
   "source": [
    "1225/10504\n",
    "\n",
    "#Final answer: 0.11662223914699162"
   ]
  },
  {
   "cell_type": "code",
   "execution_count": 122,
   "metadata": {},
   "outputs": [
    {
     "name": "stdout",
     "output_type": "stream",
     "text": [
      "{10: 'C', 11: 'C', 12: 'C', 13: 'C', 14: 'C', 15: 'C', 16: 'C', 17: 'C', 18: 'C', 19: 'C', 20: 'C', 21: 'C', 22: 'C', 23: 'C', 24: 'C', 25: 'C', 26: 'C', 27: 'C', 28: 'C', 29: 'C', 30: 'C', 31: 'C', 32: 'C', 33: 'C', 35: 'D', 36: 'E', 37: 'E', 38: 'E', 39: 'E', 41: 'F', 42: 'F', 43: 'F', 45: 'G', 46: 'G', 47: 'G', 49: 'H', 50: 'H', 51: 'H', 52: 'H', 53: 'H', 55: 'I', 56: 'I', 58: 'J', 59: 'J', 60: 'J', 61: 'J', 62: 'J', 63: 'J', 64: 'K', 65: 'K', 66: 'K', 68: 'L', 69: 'M', 70: 'M', 71: 'M', 72: 'M', 73: 'M', 74: 'M', 75: 'M', 77: 'N', 78: 'N', 79: 'N', 80: 'N', 81: 'N', 82: 'N', 84: 'O', 85: 'P', 86: 'Q', 87: 'Q', 88: 'Q', 90: 'R', 91: 'R', 92: 'R', 93: 'R', 94: 'S', 95: 'S', 96: 'S', 97: 'T', 98: 'T', 99: 'U'}\n"
     ]
    }
   ],
   "source": [
    "#----------B.2.1 Create a new column for the industry sector \n",
    "#----------(for each company) using the SIC code\n",
    "\n",
    "#Importing useful functions, etc...\n",
    "import pyspark\n",
    "from pyspark.sql.functions import udf\n",
    "from pyspark.sql.types import StringType\n",
    "\n",
    "#Since the sector group ranges (the first two digits) we start at C\n",
    "\n",
    "#Creating and appending first in dictionary\n",
    "dictionary_sic = dict.fromkeys(list(range(10,34)), 'C')\n",
    "\n",
    "#Can only update with one argument at time\n",
    "dictionary_sic.update(dict.fromkeys([35], 'D'))\n",
    "dictionary_sic.update(dict.fromkeys(list(range(36,40)), 'E'))\n",
    "dictionary_sic.update(dict.fromkeys(list(range(41,44)), 'F'))\n",
    "dictionary_sic.update(dict.fromkeys(list(range(45,48)), 'G'))\n",
    "dictionary_sic.update(dict.fromkeys(list(range(49,54)), 'H'))\n",
    "dictionary_sic.update(dict.fromkeys(list(range(55,57)), 'I'))\n",
    "dictionary_sic.update(dict.fromkeys(list(range(58,64)), 'J'))\n",
    "dictionary_sic.update(dict.fromkeys(list(range(64,67)), 'K'))\n",
    "dictionary_sic.update(dict.fromkeys([68], 'L'))\n",
    "dictionary_sic.update(dict.fromkeys(list(range(69,76)), 'M'))\n",
    "dictionary_sic.update(dict.fromkeys(list(range(77,83)), 'N'))\n",
    "dictionary_sic.update(dict.fromkeys([84], 'O'))\n",
    "dictionary_sic.update(dict.fromkeys([85], 'P'))\n",
    "dictionary_sic.update(dict.fromkeys(list(range(86,89)), 'Q'))\n",
    "dictionary_sic.update(dict.fromkeys(list(range(90,94)), 'R'))\n",
    "dictionary_sic.update(dict.fromkeys(list(range(94,97)), 'S'))\n",
    "dictionary_sic.update(dict.fromkeys(list(range(97,99)), 'T'))\n",
    "dictionary_sic.update(dict.fromkeys([99], 'U'))\n",
    "\n",
    "#Broadcasting the dictionary to represent the SIC code mapping   \n",
    "dictionary_broadcast = spark_context.broadcast(dictionary_sic)\n",
    "\n",
    "print(dictionary_sic)"
   ]
  },
  {
   "cell_type": "code",
   "execution_count": 123,
   "metadata": {},
   "outputs": [
    {
     "data": {
      "text/plain": [
       "'C'"
      ]
     },
     "execution_count": 123,
     "metadata": {},
     "output_type": "execute_result"
    }
   ],
   "source": [
    "dictionary_broadcast.value[10]"
   ]
  },
  {
   "cell_type": "code",
   "execution_count": 124,
   "metadata": {},
   "outputs": [],
   "source": [
    "#We do not have the need to check for code beginning with 1 because of the try clause\n",
    "def dictionary_value(sic_code_string):\n",
    "    try:\n",
    "        array = sic_code_string.split(',')\n",
    "        return dictionary_broadcast.value[int(array[0][0:2])]\n",
    "    except:\n",
    "        return"
   ]
  },
  {
   "cell_type": "code",
   "execution_count": 127,
   "metadata": {},
   "outputs": [
    {
     "name": "stdout",
     "output_type": "stream",
     "text": [
      "+--------+--------------+\n",
      "|SicCodes|IndustrySector|\n",
      "+--------+--------------+\n",
      "|   85310|             P|\n",
      "|   47730|             G|\n",
      "|   61900|             J|\n",
      "|   78300|             N|\n",
      "|   93110|             R|\n",
      "+--------+--------------+\n",
      "only showing top 5 rows\n",
      "\n"
     ]
    }
   ],
   "source": [
    "udf_dictionary_value = udf(dictionary_value, StringType())\n",
    "dataframe.select('SicCodes').withColumn(\"IndustrySector\", \\\n",
    "    udf_dictionary_value(dataframe.SicCodes))\\\n",
    "    .show(5)"
   ]
  },
  {
   "cell_type": "code",
   "execution_count": null,
   "metadata": {},
   "outputs": [],
   "source": []
  }
 ],
 "metadata": {
  "kernelspec": {
   "display_name": "Python 3",
   "language": "python",
   "name": "python3"
  },
  "language_info": {
   "codemirror_mode": {
    "name": "ipython",
    "version": 3
   },
   "file_extension": ".py",
   "mimetype": "text/x-python",
   "name": "python",
   "nbconvert_exporter": "python",
   "pygments_lexer": "ipython3",
   "version": "3.5.2"
  }
 },
 "nbformat": 4,
 "nbformat_minor": 2
}
